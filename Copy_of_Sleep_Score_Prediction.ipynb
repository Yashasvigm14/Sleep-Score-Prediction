{
  "nbformat": 4,
  "nbformat_minor": 0,
  "metadata": {
    "colab": {
      "provenance": [],
      "authorship_tag": "ABX9TyMr1AOP/LL2GgMzLJTX5FTG",
      "include_colab_link": true
    },
    "kernelspec": {
      "name": "python3",
      "display_name": "Python 3"
    },
    "language_info": {
      "name": "python"
    }
  },
  "cells": [
    {
      "cell_type": "markdown",
      "metadata": {
        "id": "view-in-github",
        "colab_type": "text"
      },
      "source": [
        "<a href=\"https://colab.research.google.com/github/Yashasvigm14/Sleep-Score-Prediction/blob/main/Copy_of_Sleep_Score_Prediction.ipynb\" target=\"_parent\"><img src=\"https://colab.research.google.com/assets/colab-badge.svg\" alt=\"Open In Colab\"/></a>"
      ]
    },
    {
      "cell_type": "code",
      "execution_count": null,
      "metadata": {
        "colab": {
          "base_uri": "https://localhost:8080/"
        },
        "id": "ry6tSe03opAo",
        "outputId": "a89e4347-4a65-48c0-b1d1-cd66b518f747"
      },
      "outputs": [
        {
          "output_type": "stream",
          "name": "stdout",
          "text": [
            "Sleep Score: 84.89\n"
          ]
        }
      ],
      "source": [
        "def calculate_sleep_score(data):\n",
        "    # Default values\n",
        "    default_values = {\n",
        "        \"total_sleep_time\": 420,\n",
        "        \"time_in_bed\": 500,\n",
        "        \"rem_sleep\": 80,\n",
        "        \"deep_sleep\": 100,\n",
        "        \"light_sleep\": 200,\n",
        "        \"awake_time\": 50,\n",
        "        \"active_sleep\": 30,\n",
        "        \"steps\": 8000,\n",
        "        \"calories_burned\": 2000,\n",
        "        \"exercise_minutes\": 30,\n",
        "        \"heart_rate_avg\": 75,\n",
        "        \"heart_rate_variability_avg\": 60,\n",
        "        \"stress_level\": 5,\n",
        "    }\n",
        "\n",
        "    # to handle missing values\n",
        "    def get_value(key, data_dict, default):\n",
        "        value = data_dict.get(key, default)\n",
        "        return value if value is not None else default\n",
        "\n",
        "    # Sleep duration scoring function\n",
        "    def sleep_duration_score(total_sleep_time, lower_bound=420, upper_bound=540):\n",
        "        if total_sleep_time < lower_bound:\n",
        "            return total_sleep_time / lower_bound  # Penalize insufficient sleep\n",
        "        elif total_sleep_time > upper_bound:\n",
        "            return max(1 - (total_sleep_time - upper_bound) / upper_bound, 0)  # Penalize oversleeping\n",
        "        else:\n",
        "            return 1.0  # Optimal sleep range\n",
        "\n",
        "    # Sleep efficiency penalty function\n",
        "    def sleep_efficiency_penalty(total_sleep_time, time_in_bed, efficiency_threshold=85):\n",
        "        if time_in_bed <= 0:\n",
        "            return 1.0\n",
        "        efficiency = (total_sleep_time / time_in_bed) * 100\n",
        "        if efficiency < efficiency_threshold:\n",
        "            return efficiency / efficiency_threshold  # Penalize for low efficiency\n",
        "        return 1.0  # No penalty for good efficiency\n",
        "\n",
        "    # Extract sleep data\n",
        "    sleep_data = data.get('sleep_data', {})\n",
        "    total_sleep_time = get_value('total_sleep_time', sleep_data, default_values[\"total_sleep_time\"])\n",
        "    time_in_bed = get_value('time_in_bed', sleep_data, default_values[\"time_in_bed\"])\n",
        "    sleep_efficiency = (total_sleep_time / time_in_bed) * 100 if time_in_bed > 0 else 0  # Dynamically calculated\n",
        "\n",
        "    # Extract and calculate sleep stages\n",
        "    sleep_stages = sleep_data.get('sleep_stages', {})\n",
        "    rem_sleep = get_value('rem_sleep', sleep_stages, default_values[\"rem_sleep\"])\n",
        "    non_rem_sleep = sleep_stages.get('non_rem_sleep', {})\n",
        "    light_sleep = get_value('light_sleep', non_rem_sleep, default_values[\"light_sleep\"])\n",
        "    deep_sleep = get_value('deep_sleep', non_rem_sleep, default_values[\"deep_sleep\"])\n",
        "    calculated_non_rem_sleep = light_sleep + deep_sleep  # Dynamically calculated\n",
        "\n",
        "    # Extract other parameters\n",
        "    awake_time = get_value('awake_time', sleep_stages, default_values[\"awake_time\"])\n",
        "    active_sleep = get_value('active_sleep', sleep_data, default_values[\"active_sleep\"])\n",
        "    steps = get_value('steps', data, default_values[\"steps\"])\n",
        "    calories_burned = get_value('calories_burned', data, default_values[\"calories_burned\"])\n",
        "    exercise_minutes = get_value('exercise_minutes', data, default_values[\"exercise_minutes\"])\n",
        "    heart_rate_avg = get_value('heart_rate_avg', data, default_values[\"heart_rate_avg\"])\n",
        "    heart_rate_variability_avg = get_value('heart_rate_variability_avg', data, default_values[\"heart_rate_variability_avg\"])\n",
        "    stress_level = get_value('stress_level', data, default_values[\"stress_level\"])\n",
        "\n",
        "    # Grouped parameters\n",
        "    fitness = (steps / 10000 + calories_burned / 2500 + exercise_minutes / 30 + (1 - abs(heart_rate_avg - 60) / 40)) / 4\n",
        "    restlessness = 1 - (awake_time / 60 + active_sleep / total_sleep_time) / 2\n",
        "    stress_recovery = (1 - stress_level / 10 + heart_rate_variability_avg / 70) / 2\n",
        "\n",
        "    # Parameter weights\n",
        "    weights = {\n",
        "        \"total_sleep_time\": 0.25,\n",
        "        \"sleep_efficiency\": 0.15,\n",
        "        \"sleep_stages\": 0.25,\n",
        "        \"restlessness\": 0.10,\n",
        "        \"fitness\": 0.10,\n",
        "        \"stress_recovery\": 0.10,\n",
        "    }\n",
        "\n",
        "    # Calculate score\n",
        "    total_sleep_score = sleep_duration_score(total_sleep_time) * sleep_efficiency_penalty(total_sleep_time, time_in_bed)\n",
        "    score = 0\n",
        "    score += weights[\"total_sleep_time\"] * total_sleep_score * 100\n",
        "    score += weights[\"sleep_efficiency\"] * (sleep_efficiency / 100) * 100\n",
        "    score += weights[\"sleep_stages\"] * ((rem_sleep / 90 + deep_sleep / 120 + light_sleep / 210) / 3) * 100\n",
        "    score += weights[\"restlessness\"] * restlessness * 100\n",
        "    score += weights[\"fitness\"] * min(fitness, 1.0) * 100\n",
        "    score += weights[\"stress_recovery\"] * min(stress_recovery, 1.0) * 100\n",
        "\n",
        "    # Ensure score is within bounds\n",
        "    return round(max(0, min(score, 100)), 2)\n",
        "\n",
        "# Example Input\n",
        "input_data = {\n",
        "    \"steps\": 10000,\n",
        "    \"calories_burned\": 2500,\n",
        "    \"exercise_minutes\": 40,\n",
        "    \"heart_rate_avg\": 65,\n",
        "    \"heart_rate_variability_avg\": 70,\n",
        "    \"stress_level\": 2,\n",
        "    \"sleep_data\": {\n",
        "        \"total_sleep_time\": 450,\n",
        "        \"time_in_bed\": 530,\n",
        "        \"sleep_stages\": {\n",
        "            \"rem_sleep\": None,  # Missing value\n",
        "            \"non_rem_sleep\": {\n",
        "                \"light_sleep\": 210,\n",
        "                \"deep_sleep\": None\n",
        "            },\n",
        "            \"awake_time\": 50\n",
        "        }\n",
        "    }\n",
        "}\n",
        "\n",
        "# Calculate sleep score\n",
        "print(f\"Sleep Score: {calculate_sleep_score(input_data)}\")\n"
      ]
    },
    {
      "cell_type": "code",
      "source": [],
      "metadata": {
        "id": "fkBxtExuouED"
      },
      "execution_count": null,
      "outputs": []
    }
  ]
}